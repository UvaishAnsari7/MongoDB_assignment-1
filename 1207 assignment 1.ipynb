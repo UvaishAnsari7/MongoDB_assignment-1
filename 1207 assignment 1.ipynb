{
 "cells": [
  {
   "cell_type": "code",
   "execution_count": 1,
   "metadata": {},
   "outputs": [],
   "source": [
    "import pymongo\n",
    "client = pymongo.MongoClient(\"mongodb://localhost:27017/\")\n",
    "mydb = client[\"assignment1\"]\n",
    "collection = mydb.students\n",
    "collection = mydb[\"students\"]"
   ]
  },
  {
   "cell_type": "code",
   "execution_count": 2,
   "metadata": {},
   "outputs": [],
   "source": [
    "students= [{\"name\": \"Rohit\", \"age\": 23, \"math_score\": 85, \"physics_score\": 90, \"city\": \"New York\"}, \n",
    "             {\"name\": \"Eram\", \"age\": 22, \"math_score\": 78, \"physics_score\": 75, \"city\": \"Los Angeles\"},\n",
    "             {\"name\": \"Madan\", \"age\": 24, \"math_score\": 95, \"physics_score\": 88, \"city\": \"Chicago\"},\n",
    "             {\"name\": \"Uvaish\", \"age\": 21, \"math_score\": 60, \"physics_score\": 65, \"city\": \"Houston\"},\n",
    "             {\"name\": \"Neha\", \"age\": 23, \"math_score\": 72, \"physics_score\": 80, \"city\": \"Phoenix\"}]"
   ]
  },
  {
   "cell_type": "code",
   "execution_count": 3,
   "metadata": {},
   "outputs": [
    {
     "data": {
      "text/plain": [
       "InsertManyResult([ObjectId('66eff330524eba9b92cffe23'), ObjectId('66eff330524eba9b92cffe24'), ObjectId('66eff330524eba9b92cffe25'), ObjectId('66eff330524eba9b92cffe26'), ObjectId('66eff330524eba9b92cffe27')], acknowledged=True)"
      ]
     },
     "execution_count": 3,
     "metadata": {},
     "output_type": "execute_result"
    }
   ],
   "source": [
    "#1. inserting the collection into MongoDB collection named Student\n",
    "collection.insert_many(students)"
   ]
  },
  {
   "cell_type": "code",
   "execution_count": 24,
   "metadata": {},
   "outputs": [
    {
     "name": "stdout",
     "output_type": "stream",
     "text": [
      "{'_id': ObjectId('66ed4d067397b5e770283d32'), 'name': 'Rohit', 'age': 23, 'math_score': 85, 'physics_score': 90, 'city': 'New York', 'graduated': True}\n",
      "{'_id': ObjectId('66ed4d067397b5e770283d33'), 'name': 'Eram', 'age': 22, 'math_score': 78, 'physics_score': 75, 'city': 'Los Angeles'}\n",
      "{'_id': ObjectId('66ed4d067397b5e770283d34'), 'name': 'Madan', 'age': 24, 'math_score': 95, 'physics_score': 88, 'city': 'Chicago', 'graduated': True}\n",
      "{'_id': ObjectId('66ed4d067397b5e770283d36'), 'name': 'Neha', 'age': 23, 'math_score': 72, 'physics_score': 85, 'city': 'Phoenix', 'status': 'graduated', 'graduated': True}\n",
      "{'_id': ObjectId('66eff330524eba9b92cffe26'), 'name': 'Uvaish', 'age': 21, 'math_score': 60, 'physics_score': 65, 'city': 'Houston'}\n"
     ]
    }
   ],
   "source": [
    "for student in collection.find():\n",
    "    print(student)"
   ]
  },
  {
   "cell_type": "code",
   "execution_count": 25,
   "metadata": {},
   "outputs": [
    {
     "name": "stdout",
     "output_type": "stream",
     "text": [
      "{'_id': ObjectId('66ed4d067397b5e770283d32'), 'name': 'Rohit', 'age': 23, 'math_score': 85, 'physics_score': 90, 'city': 'New York', 'graduated': True}\n",
      "{'_id': ObjectId('66ed4d067397b5e770283d34'), 'name': 'Madan', 'age': 24, 'math_score': 95, 'physics_score': 88, 'city': 'Chicago', 'graduated': True}\n"
     ]
    }
   ],
   "source": [
    "#2. student who have math score more than 2\n",
    "query= {\n",
    "    \"math_score\":{\n",
    "        \"$gt\": 80\n",
    "    }\n",
    "}\n",
    "for student in collection.find(query):\n",
    "    print(student)"
   ]
  },
  {
   "cell_type": "code",
   "execution_count": 26,
   "metadata": {},
   "outputs": [
    {
     "name": "stdout",
     "output_type": "stream",
     "text": [
      "{'_id': ObjectId('66ed4d067397b5e770283d33'), 'name': 'Eram', 'age': 22, 'math_score': 78, 'physics_score': 75, 'city': 'Los Angeles'}\n",
      "{'_id': ObjectId('66eff330524eba9b92cffe26'), 'name': 'Uvaish', 'age': 21, 'math_score': 60, 'physics_score': 65, 'city': 'Houston'}\n"
     ]
    }
   ],
   "source": [
    "#3. fidning the student whose age is less than 23.\n",
    "query = {\n",
    "    \"age\":{\n",
    "        \"$lt\": 23\n",
    "    }\n",
    "}\n",
    "for student in collection.find(query):\n",
    "    print(student)"
   ]
  },
  {
   "cell_type": "code",
   "execution_count": 27,
   "metadata": {},
   "outputs": [
    {
     "name": "stdout",
     "output_type": "stream",
     "text": [
      "{'name': 'Rohit', 'math_score': 85}\n",
      "{'name': 'Eram', 'math_score': 78}\n",
      "{'name': 'Madan', 'math_score': 95}\n",
      "{'name': 'Neha', 'math_score': 72}\n",
      "{'name': 'Uvaish', 'math_score': 60}\n"
     ]
    }
   ],
   "source": [
    "#4. FInding the name and math score of the students\n",
    "query = {\n",
    "    \"_id\" :0, \"name\": 1, \"math_score\": 1}\n",
    "for student in collection.find({}, query):\n",
    "    print(student)"
   ]
  },
  {
   "cell_type": "code",
   "execution_count": 28,
   "metadata": {},
   "outputs": [
    {
     "name": "stdout",
     "output_type": "stream",
     "text": [
      "{'_id': ObjectId('66ed4d067397b5e770283d32'), 'name': 'Rohit', 'age': 23, 'math_score': 85, 'physics_score': 90, 'city': 'New York', 'graduated': True}\n"
     ]
    }
   ],
   "source": [
    "#5. find the student from New York City\n",
    "query= {\n",
    "    \"city\": {\n",
    "        \"$eq\": \"New York\"\n",
    "    }\n",
    "}\n",
    "\n",
    "for student in collection.find(query):\n",
    "    print(student)"
   ]
  },
  {
   "cell_type": "code",
   "execution_count": 29,
   "metadata": {},
   "outputs": [
    {
     "data": {
      "text/plain": [
       "UpdateResult({'n': 1, 'nModified': 0, 'ok': 1.0, 'updatedExisting': True}, acknowledged=True)"
      ]
     },
     "execution_count": 29,
     "metadata": {},
     "output_type": "execute_result"
    }
   ],
   "source": [
    "# 6. update the 'physics_score' of 'Neha' to 85.\n",
    "collection.update_one({\"name\": \"Neha\"}, {\"$set\": {\"physics_score\": 85}})"
   ]
  },
  {
   "cell_type": "code",
   "execution_count": 30,
   "metadata": {},
   "outputs": [
    {
     "data": {
      "text/plain": [
       "DeleteResult({'n': 1, 'ok': 1.0}, acknowledged=True)"
      ]
     },
     "execution_count": 30,
     "metadata": {},
     "output_type": "execute_result"
    }
   ],
   "source": [
    "# 7. delete the student 'Uvaish' from the collection.\n",
    "collection.delete_one({\"name\": \"Uvaish\"})"
   ]
  },
  {
   "cell_type": "code",
   "execution_count": 31,
   "metadata": {},
   "outputs": [
    {
     "name": "stdout",
     "output_type": "stream",
     "text": [
      "{'_id': ObjectId('66ed4d067397b5e770283d32'), 'name': 'Rohit', 'age': 23, 'math_score': 85, 'physics_score': 90, 'city': 'New York', 'graduated': True}\n",
      "{'_id': ObjectId('66ed4d067397b5e770283d33'), 'name': 'Eram', 'age': 22, 'math_score': 78, 'physics_score': 75, 'city': 'Los Angeles'}\n",
      "{'_id': ObjectId('66ed4d067397b5e770283d36'), 'name': 'Neha', 'age': 23, 'math_score': 72, 'physics_score': 85, 'city': 'Phoenix', 'status': 'graduated', 'graduated': True}\n"
     ]
    }
   ],
   "source": [
    "# 8. find all students where 'math_score' is between 70 and 90 (inclusive).\n",
    "pipeline= [\n",
    "    {\n",
    "    \"$match\":{\n",
    "        \"math_score\":{\n",
    "            \"$gte\": 70,\n",
    "            \"$lte\": 90\n",
    "        }\n",
    "    }\n",
    "}\n",
    "]\n",
    "\n",
    "results= collection.aggregate(pipeline)\n",
    "for student in results:\n",
    "    print(student)"
   ]
  },
  {
   "cell_type": "code",
   "execution_count": 32,
   "metadata": {},
   "outputs": [
    {
     "name": "stdout",
     "output_type": "stream",
     "text": [
      "{'_id': ObjectId('66ed4d067397b5e770283d33'), 'name': 'Eram', 'age': 22, 'math_score': 78, 'physics_score': 75, 'city': 'Los Angeles'}\n",
      "{'_id': ObjectId('66ed4d067397b5e770283d34'), 'name': 'Madan', 'age': 24, 'math_score': 95, 'physics_score': 88, 'city': 'Chicago', 'graduated': True}\n"
     ]
    }
   ],
   "source": [
    "# 9. find students whose 'math_score' is greater than 'physics_score'.\n",
    "query = {\n",
    "    \"$expr\":{\n",
    "        \"$gt\": [\"$math_score\", \"$physics_score\"]\n",
    "    }\n",
    "}\n",
    "for students in collection.find(query):\n",
    "    print(students)"
   ]
  },
  {
   "cell_type": "code",
   "execution_count": 33,
   "metadata": {},
   "outputs": [
    {
     "name": "stdout",
     "output_type": "stream",
     "text": [
      "{'_id': ObjectId('66ed4d067397b5e770283d34'), 'name': 'Madan', 'age': 24, 'math_score': 95, 'physics_score': 88, 'city': 'Chicago', 'graduated': True}\n",
      "{'_id': ObjectId('66ed4d067397b5e770283d32'), 'name': 'Rohit', 'age': 23, 'math_score': 85, 'physics_score': 90, 'city': 'New York', 'graduated': True}\n",
      "{'_id': ObjectId('66ed4d067397b5e770283d33'), 'name': 'Eram', 'age': 22, 'math_score': 78, 'physics_score': 75, 'city': 'Los Angeles'}\n",
      "{'_id': ObjectId('66ed4d067397b5e770283d36'), 'name': 'Neha', 'age': 23, 'math_score': 72, 'physics_score': 85, 'city': 'Phoenix', 'status': 'graduated', 'graduated': True}\n"
     ]
    }
   ],
   "source": [
    "#10. students sorted by 'math_score' in descending order.\n",
    "for students in collection.find().sort(\"math_score\", -1):\n",
    "    print (students)"
   ]
  },
  {
   "cell_type": "code",
   "execution_count": 34,
   "metadata": {},
   "outputs": [
    {
     "name": "stdout",
     "output_type": "stream",
     "text": [
      "{'_id': None, 'avgmathscore': 82.5}\n"
     ]
    }
   ],
   "source": [
    "#11. the aggregation framework to calculate the average 'math_score' of all students.\n",
    "\n",
    "pipeline = [\n",
    "    {\"$group\":{\n",
    "        \"_id\" :None,\n",
    "        \"avgmathscore\":{\"$avg\": \"$math_score\"}\n",
    "    }}\n",
    "]\n",
    "\n",
    "for result in collection.aggregate(pipeline):\n",
    "    print (result)"
   ]
  },
  {
   "cell_type": "code",
   "execution_count": 35,
   "metadata": {},
   "outputs": [
    {
     "name": "stdout",
     "output_type": "stream",
     "text": [
      "{'_id': 'New York', 'count': 1}\n",
      "{'_id': 'Los Angeles', 'count': 1}\n",
      "{'_id': 'Chicago', 'count': 1}\n",
      "{'_id': 'Phoenix', 'count': 1}\n"
     ]
    }
   ],
   "source": [
    "\n",
    "#12. group students by 'city' and count the number of students in each city.\n",
    "pipeline =[\n",
    "    {\"$group\":{\n",
    "        \"_id\" : \"$city\",\n",
    "        \"count\": {\"$sum\": 1}\n",
    "    }}\n",
    "]\n",
    "for result in collection.aggregate(pipeline):\n",
    "    print (result)"
   ]
  },
  {
   "cell_type": "code",
   "execution_count": 36,
   "metadata": {},
   "outputs": [
    {
     "name": "stdout",
     "output_type": "stream",
     "text": [
      "{'_id': ObjectId('66ed4d067397b5e770283d32'), 'name': 'Rohit', 'age': 23, 'math_score': 85, 'physics_score': 90, 'city': 'New York', 'graduated': True}\n",
      "{'_id': ObjectId('66ed4d067397b5e770283d34'), 'name': 'Madan', 'age': 24, 'math_score': 95, 'physics_score': 88, 'city': 'Chicago', 'graduated': True}\n"
     ]
    }
   ],
   "source": [
    "#13. find students who either have 'math_score' greater than 80 or 'physics_score' greater than 85.\n",
    "query= {\n",
    "    \"$or\": [\n",
    "        {\"match_score\": {\"$gt\": 80}},\n",
    "        {\"physics_score\": {\"$gt\": 85}}\n",
    "    ]\n",
    "}\n",
    "for students in collection.find(query):\n",
    "    print (students)"
   ]
  },
  {
   "cell_type": "code",
   "execution_count": 37,
   "metadata": {},
   "outputs": [
    {
     "name": "stdout",
     "output_type": "stream",
     "text": [
      "{'_id': ObjectId('66ed4d067397b5e770283d36'), 'name': 'Neha', 'age': 23, 'math_score': 72, 'physics_score': 85, 'city': 'Phoenix', 'status': 'graduated', 'graduated': True}\n"
     ]
    }
   ],
   "source": [
    "#14. find students whose age is exactly 23 and live in 'Phoenix'.\n",
    "query= {\n",
    "    \"$and\": [\n",
    "        {\"age\": 23},\n",
    "        {\"city\": \"Phoenix\"}\n",
    "    ]\n",
    "}\n",
    "for students in collection.find(query):\n",
    "    print(students)"
   ]
  },
  {
   "cell_type": "code",
   "execution_count": 38,
   "metadata": {},
   "outputs": [
    {
     "name": "stdout",
     "output_type": "stream",
     "text": [
      "{'_id': ObjectId('66ed4d067397b5e770283d33'), 'name': 'Eram', 'age': 22, 'math_score': 78, 'physics_score': 75, 'city': 'Los Angeles'}\n",
      "{'_id': ObjectId('66ed4d067397b5e770283d34'), 'name': 'Madan', 'age': 24, 'math_score': 95, 'physics_score': 88, 'city': 'Chicago', 'graduated': True}\n",
      "{'_id': ObjectId('66ed4d067397b5e770283d36'), 'name': 'Neha', 'age': 23, 'math_score': 72, 'physics_score': 85, 'city': 'Phoenix', 'status': 'graduated', 'graduated': True}\n"
     ]
    }
   ],
   "source": [
    "#15. find students whose 'math_score' is not equal to 85.\n",
    "\n",
    "query= {\n",
    "    \"math_score\": {\n",
    "        \"$ne\": 85\n",
    "    }\n",
    "}\n",
    "for students in collection.find(query):\n",
    "    print (students)"
   ]
  },
  {
   "cell_type": "code",
   "execution_count": 39,
   "metadata": {},
   "outputs": [],
   "source": [
    "#16.find students whose 'name' starts with the letter 'A'.\n",
    "query= {\n",
    "    \"name\":{\n",
    "        \"$regex\": \"^A\", \"$options\": \"i\"\n",
    "    }\n",
    "}\n",
    "for students in collection.find(query):\n",
    "    print (students)                            \n",
    "                                            #there are no students whose name starts with \"A\""
   ]
  },
  {
   "cell_type": "code",
   "execution_count": 40,
   "metadata": {},
   "outputs": [
    {
     "name": "stdout",
     "output_type": "stream",
     "text": [
      "{'_id': ObjectId('66ed4d067397b5e770283d34'), 'name': 'Madan', 'age': 24, 'math_score': 95, 'physics_score': 88, 'city': 'Chicago', 'graduated': True}\n",
      "{'_id': ObjectId('66ed4d067397b5e770283d36'), 'name': 'Neha', 'age': 23, 'math_score': 72, 'physics_score': 85, 'city': 'Phoenix', 'status': 'graduated', 'graduated': True}\n"
     ]
    }
   ],
   "source": [
    "#17. find students whose 'city' is neither 'New York' nor 'Los Angeles'.\n",
    "query = {\n",
    "    \"city\":{\n",
    "        \"$nin\": [\"New York\", \"Los Angeles\"]\n",
    "    }\n",
    "}\n",
    "\n",
    "for students in collection.find(query):\n",
    "    print(students)"
   ]
  },
  {
   "cell_type": "code",
   "execution_count": 41,
   "metadata": {},
   "outputs": [
    {
     "data": {
      "text/plain": [
       "UpdateResult({'n': 3, 'nModified': 0, 'ok': 1.0, 'updatedExisting': True}, acknowledged=True)"
      ]
     },
     "execution_count": 41,
     "metadata": {},
     "output_type": "execute_result"
    }
   ],
   "source": [
    "# 18.update all students with 'age' greater than 22 to add a new field 'graduated': true.\n",
    "collection.update_many ({\"age\": {\"$gt\": 22}}, {\"$set\": {\"graduated\": True}})"
   ]
  },
  {
   "cell_type": "code",
   "execution_count": 45,
   "metadata": {},
   "outputs": [
    {
     "data": {
      "text/plain": [
       "UpdateResult({'n': 1, 'nModified': 0, 'ok': 1.0, 'updatedExisting': True}, acknowledged=True)"
      ]
     },
     "execution_count": 45,
     "metadata": {},
     "output_type": "execute_result"
    }
   ],
   "source": [
    "#19. remove the 'physics_score' field for students who live in 'Chicago'.\n",
    "collection.update_many({\"city\": \"Chicago\"}, {\"$unset\": {\"physics_score\": \"\"}})"
   ]
  },
  {
   "cell_type": "code",
   "execution_count": 49,
   "metadata": {},
   "outputs": [
    {
     "name": "stdout",
     "output_type": "stream",
     "text": [
      "{'_id': ObjectId('66ed4d067397b5e770283d34'), 'name': 'Madan', 'age': 24, 'math_score': 95, 'city': 'Chicago', 'graduated': True}\n"
     ]
    }
   ],
   "source": [
    "# 20. find the student with the highest 'math_score'.\n",
    "for students in collection.find().sort(\"math_score\", -1).limit(1):\n",
    "    print (students)"
   ]
  },
  {
   "cell_type": "code",
   "execution_count": null,
   "metadata": {},
   "outputs": [],
   "source": []
  }
 ],
 "metadata": {
  "kernelspec": {
   "display_name": "base",
   "language": "python",
   "name": "python3"
  },
  "language_info": {
   "codemirror_mode": {
    "name": "ipython",
    "version": 3
   },
   "file_extension": ".py",
   "mimetype": "text/x-python",
   "name": "python",
   "nbconvert_exporter": "python",
   "pygments_lexer": "ipython3",
   "version": "3.12.4"
  }
 },
 "nbformat": 4,
 "nbformat_minor": 2
}
